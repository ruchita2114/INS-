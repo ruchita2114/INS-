{
  "nbformat": 4,
  "nbformat_minor": 0,
  "metadata": {
    "colab": {
      "provenance": [],
      "authorship_tag": "ABX9TyM/328W3O/SuFat4timiUgC",
      "include_colab_link": true
    },
    "kernelspec": {
      "name": "python3",
      "display_name": "Python 3"
    },
    "language_info": {
      "name": "python"
    }
  },
  "cells": [
    {
      "cell_type": "markdown",
      "metadata": {
        "id": "view-in-github",
        "colab_type": "text"
      },
      "source": [
        "<a href=\"https://colab.research.google.com/github/ruchita2114/INS-/blob/main/monoalphabetic_cipher.ipynb\" target=\"_parent\"><img src=\"https://colab.research.google.com/assets/colab-badge.svg\" alt=\"Open In Colab\"/></a>"
      ]
    },
    {
      "cell_type": "code",
      "execution_count": 1,
      "metadata": {
        "colab": {
          "base_uri": "https://localhost:8080/"
        },
        "id": "-pLBePpjKQYT",
        "outputId": "bf8f825c-e0ac-4830-c414-8362905da85d"
      },
      "outputs": [
        {
          "output_type": "stream",
          "name": "stdout",
          "text": [
            "Plaintext: information science\n",
            "Encrypted text: vmslizngvlm hpvrmpr\n",
            "Decrypted text: information science\n"
          ]
        }
      ],
      "source": [
        "keys={\n",
        "    'a':'n','b':'o','c':'p','d':'q','e':'r','f':'s','g':'t',\n",
        "    'h':'u','i':'v','j':'w','k':'x','l':'y','m':'z','n':'m','o':'l','p':'k','q':'j',\n",
        "    'r':'i','s':'h','t':'g','u':'f','v':'e','w':'d','x':'c','y':'b','z':'a',\n",
        "}\n",
        "reverse_keys = {v: k for k, v in keys.items()}\n",
        "\n",
        "def encrypt(text):\n",
        "    text = text.lower()\n",
        "    encrypting = []\n",
        "    for l in text:\n",
        "        encrypting.append(keys.get(l, l))\n",
        "    return ''.join(encrypting)\n",
        "\n",
        "def decrypt(text):\n",
        "    text = text.lower()\n",
        "    decrypted = []\n",
        "    for l in text:\n",
        "        decrypted.append(reverse_keys.get(l, l))\n",
        "    return ''.join(decrypted)\n",
        "\n",
        "x = \"information science\"\n",
        "encrypted_text = encrypt(x)\n",
        "decrypted_text = decrypt(encrypted_text)\n",
        "print(\"Plaintext:\", x)\n",
        "print(\"Encrypted text:\", encrypted_text)\n",
        "print(\"Decrypted text:\", decrypted_text)"
      ]
    },
    {
      "cell_type": "code",
      "source": [],
      "metadata": {
        "id": "IJ4lu2X9M5Jv"
      },
      "execution_count": null,
      "outputs": []
    }
  ]
}