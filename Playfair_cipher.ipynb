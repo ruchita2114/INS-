{
  "nbformat": 4,
  "nbformat_minor": 0,
  "metadata": {
    "colab": {
      "provenance": [],
      "authorship_tag": "ABX9TyM8QzZ9NTVLmWDb5MmXEexu",
      "include_colab_link": true
    },
    "kernelspec": {
      "name": "python3",
      "display_name": "Python 3"
    },
    "language_info": {
      "name": "python"
    }
  },
  "cells": [
    {
      "cell_type": "markdown",
      "metadata": {
        "id": "view-in-github",
        "colab_type": "text"
      },
      "source": [
        "<a href=\"https://colab.research.google.com/github/ruchita2114/INS-/blob/main/Playfair_cipher.ipynb\" target=\"_parent\"><img src=\"https://colab.research.google.com/assets/colab-badge.svg\" alt=\"Open In Colab\"/></a>"
      ]
    },
    {
      "cell_type": "code",
      "execution_count": 1,
      "metadata": {
        "colab": {
          "base_uri": "https://localhost:8080/"
        },
        "id": "mfiVgGq7PB4b",
        "outputId": "6d90ae50-0a01-475d-a71c-38340a9248a0"
      },
      "outputs": [
        {
          "output_type": "stream",
          "name": "stdout",
          "text": [
            "Encrypted: GYFFWZ\n"
          ]
        }
      ],
      "source": [
        "def create_playfair_matrix(key):\n",
        "    alphabet = \"ABCDEFGHIKLMNOPQRSTUVWXYZ\"  # J is excluded\n",
        "    matrix = []\n",
        "    key = \"\".join(dict.fromkeys(key.upper().replace(\"J\", \"I\") + alphabet))  # Unique characters\n",
        "    for i in range(0, 25, 5):\n",
        "        matrix.append(list(key[i:i+5]))\n",
        "    return matrix\n",
        "\n",
        "def find_position(matrix, char):\n",
        "    for row in range(5):\n",
        "        for col in range(5):\n",
        "            if matrix[row][col] == char:\n",
        "                return row, col\n",
        "\n",
        "def playfair_encrypt(plaintext, key):\n",
        "    matrix = create_playfair_matrix(key)\n",
        "    plaintext = plaintext.upper().replace(\"J\", \"I\").replace(\" \", \"\")\n",
        "    if len(plaintext) % 2 != 0:\n",
        "        plaintext += \"X\"  # Padding for odd length\n",
        "\n",
        "    ciphertext = \"\"\n",
        "    for i in range(0, len(plaintext), 2):\n",
        "        a, b = plaintext[i], plaintext[i + 1]\n",
        "        row1, col1 = find_position(matrix, a)\n",
        "        row2, col2 = find_position(matrix, b)\n",
        "        if row1 == row2:\n",
        "            ciphertext += matrix[row1][(col1 + 1) % 5] + matrix[row2][(col2 + 1) % 5]\n",
        "        elif col1 == col2:\n",
        "            ciphertext += matrix[(row1 + 1) % 5][col1] + matrix[(row2 + 1) % 5][col2]\n",
        "        else:\n",
        "            ciphertext += matrix[row1][col2] + matrix[row2][col1]\n",
        "    return ciphertext\n",
        "\n",
        "# Example usage\n",
        "plaintext = \"HELLO\"\n",
        "key = \"KEYWORD\"\n",
        "print(\"Encrypted:\", playfair_encrypt(plaintext, key))"
      ]
    },
    {
      "cell_type": "code",
      "source": [],
      "metadata": {
        "id": "bDf6iNnwPD6K"
      },
      "execution_count": null,
      "outputs": []
    }
  ]
}