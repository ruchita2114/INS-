{
  "nbformat": 4,
  "nbformat_minor": 0,
  "metadata": {
    "colab": {
      "provenance": [],
      "authorship_tag": "ABX9TyPFOSeLt+9z9YLH3UtXaD0U",
      "include_colab_link": true
    },
    "kernelspec": {
      "name": "python3",
      "display_name": "Python 3"
    },
    "language_info": {
      "name": "python"
    }
  },
  "cells": [
    {
      "cell_type": "markdown",
      "metadata": {
        "id": "view-in-github",
        "colab_type": "text"
      },
      "source": [
        "<a href=\"https://colab.research.google.com/github/ruchita2114/INS-/blob/main/Diffiehelman.ipynb\" target=\"_parent\"><img src=\"https://colab.research.google.com/assets/colab-badge.svg\" alt=\"Open In Colab\"/></a>"
      ]
    },
    {
      "cell_type": "code",
      "execution_count": 1,
      "metadata": {
        "colab": {
          "base_uri": "https://localhost:8080/"
        },
        "id": "mfoerE7_4NcO",
        "outputId": "ea41acea-6484-45aa-f22f-dd0913596d77"
      },
      "outputs": [
        {
          "output_type": "stream",
          "name": "stdout",
          "text": [
            "Enter a prime number : 23\n",
            "Enter a primitive root :5\n",
            "Enter the private key of A :6\n",
            "Enter the private key of B : 15\n",
            "Public key of A :  8.0\n",
            "Public key of B :  19.0\n",
            "Shared key for A :  2.0\n",
            "Shared key for B :  2.0\n"
          ]
        }
      ],
      "source": [
        " import math\n",
        " q = int(input(\"Enter a prime number : \"))\n",
        " a = int(input(\"Enter a primitive root :\"))\n",
        " Xa = int(input(\"Enter the private key of A :\"))\n",
        " Xb = int(input(\"Enter the private key of B : \"))\n",
        " Ya = math.pow(a, Xa) % q\n",
        " Yb = math.pow(a, Xb) % q\n",
        " print(\"Public key of A : \",Ya)\n",
        " print(\"Public key of B : \",Yb)\n",
        " Ka = math.pow(Yb,Xa)%q\n",
        " Kb = math.pow(Ya,Xb)%q\n",
        " print(\"Shared key for A : \",Ka)\n",
        " print(\"Shared key for B : \",Kb)"
      ]
    }
  ]
}