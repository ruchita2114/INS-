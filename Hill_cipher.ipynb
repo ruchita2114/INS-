{
  "nbformat": 4,
  "nbformat_minor": 0,
  "metadata": {
    "colab": {
      "provenance": [],
      "authorship_tag": "ABX9TyM2eqTxNaBR7y67peq12VfU",
      "include_colab_link": true
    },
    "kernelspec": {
      "name": "python3",
      "display_name": "Python 3"
    },
    "language_info": {
      "name": "python"
    }
  },
  "cells": [
    {
      "cell_type": "markdown",
      "metadata": {
        "id": "view-in-github",
        "colab_type": "text"
      },
      "source": [
        "<a href=\"https://colab.research.google.com/github/ruchita2114/INS-/blob/main/Hill_cipher.ipynb\" target=\"_parent\"><img src=\"https://colab.research.google.com/assets/colab-badge.svg\" alt=\"Open In Colab\"/></a>"
      ]
    },
    {
      "cell_type": "code",
      "execution_count": 1,
      "metadata": {
        "colab": {
          "base_uri": "https://localhost:8080/"
        },
        "id": "Yzb13lHIPSeH",
        "outputId": "11dc99c2-5429-4c9a-92e7-7f57ba910105"
      },
      "outputs": [
        {
          "output_type": "stream",
          "name": "stdout",
          "text": [
            "Encrypted: APADFU\n"
          ]
        }
      ],
      "source": [
        "import numpy as np\n",
        "\n",
        "def hillcipher_encrypt(plaintext,key):\n",
        "    n =len(key)\n",
        "    plaintext=plaintext.upper().replace(\"\",\"\")\n",
        "    if len(plaintext)% n!=0:\n",
        "        plaintext +=\"X\"*(n-len(plaintext)%n)\n",
        "\n",
        "    plaintext_vector=[ord(char)-ord('A') for char in plaintext]\n",
        "    ciphertext=\"\"\n",
        "    for i in range(0,len(plaintext_vector),n):\n",
        "        block=plaintext_vector[i:i+n]\n",
        "        result=np.dot(key,block)%26\n",
        "        ciphertext+=\"\".join(chr(num+ord('A'))for num in result)\n",
        "    return ciphertext\n",
        "\n",
        "plaintext = \"SHORT\"\n",
        "key = np.array([[7,8],[11,11]])\n",
        "print(\"Encrypted:\", hillcipher_encrypt(plaintext, key))"
      ]
    },
    {
      "cell_type": "code",
      "source": [],
      "metadata": {
        "id": "wdNqmaeZPUF-"
      },
      "execution_count": null,
      "outputs": []
    }
  ]
}