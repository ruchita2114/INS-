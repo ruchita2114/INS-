{
  "nbformat": 4,
  "nbformat_minor": 0,
  "metadata": {
    "colab": {
      "provenance": [],
      "authorship_tag": "ABX9TyN15M4/VOmfC9trcVQSNVNa",
      "include_colab_link": true
    },
    "kernelspec": {
      "name": "python3",
      "display_name": "Python 3"
    },
    "language_info": {
      "name": "python"
    }
  },
  "cells": [
    {
      "cell_type": "markdown",
      "metadata": {
        "id": "view-in-github",
        "colab_type": "text"
      },
      "source": [
        "<a href=\"https://colab.research.google.com/github/ruchita2114/INS-/blob/main/fiestel_structure.ipynb\" target=\"_parent\"><img src=\"https://colab.research.google.com/assets/colab-badge.svg\" alt=\"Open In Colab\"/></a>"
      ]
    },
    {
      "cell_type": "code",
      "execution_count": 3,
      "metadata": {
        "colab": {
          "base_uri": "https://localhost:8080/"
        },
        "id": "Tl780T0EtU3T",
        "outputId": "fdbd1af6-cc7e-4a2a-fd1b-8b96a5f8efe2"
      },
      "outputs": [
        {
          "output_type": "stream",
          "name": "stdout",
          "text": [
            "enter the string:hello world\n",
            "Result :  0110100001100101011011000110110001101111001000000111011101101111011100100110110001100100\n",
            "enter the key :hello\n",
            "0110100001100101011011000110110001101111001000000111011101101111011100100110110001100100\n",
            "h\n",
            "he\n",
            "hel\n",
            "hell\n",
            "hello\n",
            "hello \n",
            "hello w\n",
            "hello wo\n",
            "hello wor\n",
            "hello worl\n",
            "hello world\n"
          ]
        }
      ],
      "source": [
        "s = input(\"enter the string:\")\n",
        "result = \"\".join(format(ord(i),'08b')for i in s)\n",
        "print(\"Result : \",result)\n",
        "l = int(len(result)/2)\n",
        "\n",
        "left = result[:l]\n",
        "right = result[l:]\n",
        "\n",
        "k = input(\"enter the key :\")\n",
        "key=\"\".join(format(ord(i),'08b')for i in k)\n",
        "s=bin(int(right,2)+int(key,2))\n",
        "answer = bin(int(s[2:],2)^int(left,2))\n",
        "newr= answer[2:]\n",
        "newl = right\n",
        "newr,newl = newl,newr\n",
        "s= bin(int(newr,2)+int(key,2))\n",
        "ans = bin(int(s[2:],2) ^ int(newl,2))\n",
        "nl = newr\n",
        "nr = ans[2:]\n",
        "nl,nr = nr,nl\n",
        "cipher = nl+nr\n",
        "if(len(cipher)!=len(result)):\n",
        "  while(len(cipher)!=len(result)):\n",
        "    cipher=\"0\"+cipher\n",
        "    print(cipher)\n",
        "\n",
        "    plainText = \"\"\n",
        "for i in range(0,len(cipher),8):\n",
        "  temp = cipher[i:i+8]\n",
        "  d = int(temp,2)\n",
        "  plainText=plainText+chr(d)\n",
        "  print(plainText)\n"
      ]
    },
    {
      "cell_type": "code",
      "source": [],
      "metadata": {
        "id": "n7Vcux-PtnGP"
      },
      "execution_count": null,
      "outputs": []
    }
  ]
}