{
  "nbformat": 4,
  "nbformat_minor": 0,
  "metadata": {
    "colab": {
      "provenance": [],
      "authorship_tag": "ABX9TyPZIeAb0YVpY31oHvwAm8Kq",
      "include_colab_link": true
    },
    "kernelspec": {
      "name": "python3",
      "display_name": "Python 3"
    },
    "language_info": {
      "name": "python"
    }
  },
  "cells": [
    {
      "cell_type": "markdown",
      "metadata": {
        "id": "view-in-github",
        "colab_type": "text"
      },
      "source": [
        "<a href=\"https://colab.research.google.com/github/ruchita2114/INS-/blob/main/Ceasar_cipher.ipynb\" target=\"_parent\"><img src=\"https://colab.research.google.com/assets/colab-badge.svg\" alt=\"Open In Colab\"/></a>"
      ]
    },
    {
      "cell_type": "code",
      "execution_count": 1,
      "metadata": {
        "colab": {
          "base_uri": "https://localhost:8080/"
        },
        "id": "ZusTlj8WPlWn",
        "outputId": "31173641-56e2-49ec-d40b-a37f06779d13"
      },
      "outputs": [
        {
          "output_type": "stream",
          "name": "stdout",
          "text": [
            "Text : ABCDEFGH\n",
            "Shift : 4\n",
            "Cipher: EFGHIJKL\n",
            "Text : egfhijkl\n",
            "Shift : 4\n",
            "Cipher: acbdefgh\n"
          ]
        }
      ],
      "source": [
        "def encrypt(text,s):\n",
        "    result=\"\"\n",
        "    for i in range(len(text)):\n",
        "        char= text[i]\n",
        "        result +=chr((ord(char) +s-65) % 26 +65)\n",
        "\n",
        "    return result\n",
        "text = \"ABCDEFGH\"\n",
        "s = 4\n",
        "print (\"Text : \" + text)\n",
        "print (\"Shift : \" + str(s))\n",
        "print (\"Cipher: \" + encrypt(text,s))\n",
        "\n",
        "def decrypt(s, text):\n",
        "    result = \"\"\n",
        "\n",
        "    for i in range(len(text)):\n",
        "        char = text[i]\n",
        "        result += chr((ord(char) - 97 - s) % 26 + 97)\n",
        "\n",
        "    return result\n",
        "\n",
        "text = \"egfhijkl\"\n",
        "s = 4\n",
        "\n",
        "print(\"Text : \" + text)\n",
        "print(\"Shift : \" + str(s))\n",
        "print(\"Cipher: \" + decrypt(s, text))"
      ]
    },
    {
      "cell_type": "code",
      "source": [],
      "metadata": {
        "id": "nMMJRoaGPnxV"
      },
      "execution_count": null,
      "outputs": []
    }
  ]
}