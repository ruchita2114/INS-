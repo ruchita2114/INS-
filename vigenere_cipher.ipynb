{
  "nbformat": 4,
  "nbformat_minor": 0,
  "metadata": {
    "colab": {
      "provenance": [],
      "authorship_tag": "ABX9TyOumlXMekLdq9uwDfeX6D1k",
      "include_colab_link": true
    },
    "kernelspec": {
      "name": "python3",
      "display_name": "Python 3"
    },
    "language_info": {
      "name": "python"
    }
  },
  "cells": [
    {
      "cell_type": "markdown",
      "metadata": {
        "id": "view-in-github",
        "colab_type": "text"
      },
      "source": [
        "<a href=\"https://colab.research.google.com/github/ruchita2114/INS-/blob/main/vigenere_cipher.ipynb\" target=\"_parent\"><img src=\"https://colab.research.google.com/assets/colab-badge.svg\" alt=\"Open In Colab\"/></a>"
      ]
    },
    {
      "cell_type": "code",
      "execution_count": 1,
      "metadata": {
        "colab": {
          "base_uri": "https://localhost:8080/"
        },
        "id": "o1gODfe5sHwr",
        "outputId": "a0140a55-4b8f-4a2e-96e5-533e13c56b2a"
      },
      "outputs": [
        {
          "output_type": "stream",
          "name": "stdout",
          "text": [
            "Encrypted: RIJVS\n"
          ]
        }
      ],
      "source": [
        "def vigenere_encrypt(plaintext, key):\n",
        "    key = key.upper()\n",
        "    ciphertext = \"\"\n",
        "    key_index = 0\n",
        "    for char in plaintext.upper():\n",
        "        if char.isalpha():\n",
        "            shift = ord(key[key_index]) - ord('A')\n",
        "            ciphertext += chr((ord(char) - ord('A') + shift) % 26 + ord('A'))\n",
        "            key_index = (key_index + 1) % len(key)\n",
        "        else:\n",
        "            ciphertext += char\n",
        "    return ciphertext\n",
        "\n",
        "# Example usage\n",
        "plaintext = \"HELLO\"\n",
        "key = \"KEY\"\n",
        "print(\"Encrypted:\", vigenere_encrypt(plaintext, key))\n"
      ]
    }
  ]
}